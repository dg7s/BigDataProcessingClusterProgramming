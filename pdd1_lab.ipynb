{
  "nbformat": 4,
  "nbformat_minor": 0,
  "metadata": {
    "colab": {
      "provenance": []
    },
    "kernelspec": {
      "name": "python3",
      "display_name": "Python 3"
    },
    "language_info": {
      "name": "python"
    }
  },
  "cells": [
    {
      "cell_type": "markdown",
      "metadata": {
        "id": "SeRy_Ng0lfDT"
      },
      "source": [
        "<center><img src='https://drive.google.com/uc?id=1_utx_ZGclmCwNttSe40kYA6VHzNocdET' height=\"60\"></center>\n",
        "\n",
        "AI TECH - Akademia Innowacyjnych Zastosowań Technologii Cyfrowych. Program Operacyjny Polska Cyfrowa na lata 2014-2020\n",
        "<hr>\n",
        "\n",
        "<center><img src='https://drive.google.com/uc?id=1BXZ0u3562N_MqCLcekI-Ens77Kk4LpPm'></center>\n",
        "\n",
        "<center>\n",
        "Projekt współfinansowany ze środków Unii Europejskiej w ramach Europejskiego Funduszu Rozwoju Regionalnego\n",
        "Program Operacyjny Polska Cyfrowa na lata 2014-2020,\n",
        "Oś Priorytetowa nr 3 \"Cyfrowe kompetencje społeczeństwa\" Działanie  nr 3.2 \"Innowacyjne rozwiązania na rzecz aktywizacji cyfrowej\"\n",
        "Tytuł projektu:  „Akademia Innowacyjnych Zastosowań Technologii Cyfrowych (AI Tech)”\n",
        "    </center>\n",
        "\n",
        "**Author: Tomasz Pawłowski**\n",
        "\n"
      ]
    },
    {
      "cell_type": "markdown",
      "source": [
        "# LSML - LAB 1"
      ],
      "metadata": {
        "id": "0uEERM15Z3i6"
      }
    },
    {
      "cell_type": "markdown",
      "source": [
        "Plan\n",
        "\n",
        "1. Setting up pyspark\n",
        "2. Map-Reduce word count example\n",
        "3. Map-Reduce exercises\n",
        "4. Homework\n",
        "\n"
      ],
      "metadata": {
        "id": "Ao9tweXeZr_i"
      }
    },
    {
      "cell_type": "markdown",
      "source": [
        "To **edit the colab** first copy it to your drive with the top bars `File -> Save a copy on drive` option."
      ],
      "metadata": {
        "id": "w5XTROAjE7ek"
      }
    },
    {
      "cell_type": "markdown",
      "source": [
        "## Setting up PySpark\n"
      ],
      "metadata": {
        "id": "qdrOqKrbbWEi"
      }
    },
    {
      "cell_type": "code",
      "execution_count": null,
      "metadata": {
        "id": "sxqy7fQ2Zn_u"
      },
      "outputs": [],
      "source": [
        "!pip install pyspark --quiet\n",
        "!pip install -U -q PyDrive --quiet\n",
        "!apt install openjdk-8-jdk-headless &> /dev/null"
      ]
    },
    {
      "cell_type": "code",
      "source": [
        "import os\n",
        "os.environ[\"JAVA_HOME\"] = \"/usr/lib/jvm/java-11-openjdk-amd64\""
      ],
      "metadata": {
        "id": "hvP2cvhBb-gi"
      },
      "execution_count": null,
      "outputs": []
    },
    {
      "cell_type": "code",
      "source": [
        "from pyspark import SparkContext, SparkConf\n",
        "\n",
        "conf = SparkConf().set('spark.ui.port', '4050').setAppName(\"mlibs\").setMaster(\"local[2]\")\n",
        "sc = SparkContext.getOrCreate(conf=conf)"
      ],
      "metadata": {
        "id": "IRX13sVIcU9Z"
      },
      "execution_count": null,
      "outputs": []
    },
    {
      "cell_type": "markdown",
      "source": [
        "Note: pyspark documentation is [here](https://spark.apache.org/docs/3.1.2/api/python/reference/index.html). For example: list of `SparkContext` methods is [here](https://spark.apache.org/docs/3.1.2/api/python/reference/pyspark.html#spark-context-apis).\n"
      ],
      "metadata": {
        "id": "fC4mnbWTYtkH"
      }
    },
    {
      "cell_type": "markdown",
      "source": [
        "## Example: Loading data"
      ],
      "metadata": {
        "id": "qGTb1EnMFy9U"
      }
    },
    {
      "cell_type": "markdown",
      "source": [
        "*Loading* data to clusters RAM. In spark such distributed datasets are called [RDD](https://spark.apache.org/docs/latest/rdd-programming-guide.html#resilient-distributed-datasets-rdds). They are divided into partitions which can be processed independently by different workers.\n",
        "\n",
        "`RDD` can be created from python collection, or by loading data from a file.\n"
      ],
      "metadata": {
        "id": "ckyobZb8ZtJT"
      }
    },
    {
      "cell_type": "markdown",
      "source": [
        "### From python iterable"
      ],
      "metadata": {
        "id": "XUtLR5z2dUNv"
      }
    },
    {
      "cell_type": "code",
      "source": [
        "number_of_partitions = 4\n",
        "\n",
        "array_of_numbers = [1, 2, 3, 4, 5]\n",
        "rdd_of_numbers = sc.parallelize(array_of_numbers, number_of_partitions)\n",
        "\n",
        "# `glom` shows how data is distributed in partitions\n",
        "rdd_of_numbers.glom().collect()"
      ],
      "metadata": {
        "id": "G_NdrZeQNO5v",
        "colab": {
          "base_uri": "https://localhost:8080/"
        },
        "outputId": "d42121f2-e174-4404-c562-16353dcdfc87"
      },
      "execution_count": null,
      "outputs": [
        {
          "output_type": "execute_result",
          "data": {
            "text/plain": [
              "[[1], [2], [3], [4, 5]]"
            ]
          },
          "metadata": {},
          "execution_count": 4
        }
      ]
    },
    {
      "cell_type": "markdown",
      "source": [
        "### From google drive"
      ],
      "metadata": {
        "id": "qkQdwLSvdayo"
      }
    },
    {
      "cell_type": "markdown",
      "source": [
        "Loading data from google drive. Based on [tutorial](https://colab.research.google.com/notebooks/io.ipynb#scrollTo=eFOvsAYk1tcH). Note that loading from google drive is useful but not required for this lab. You can also upload files to colab using the left menu bars `Files` menu, but such files are not persisted.\n",
        "\n",
        "Note that using google drive from other account that from which you open notebooks may not work."
      ],
      "metadata": {
        "id": "scY25PLEZrM1"
      }
    },
    {
      "cell_type": "code",
      "source": [
        "from google.colab import drive\n",
        "drive.mount('/content/drive')"
      ],
      "metadata": {
        "colab": {
          "base_uri": "https://localhost:8080/"
        },
        "id": "iV7TE2B_Pk7t",
        "outputId": "51995b77-f151-459e-de12-622d56a70479"
      },
      "execution_count": null,
      "outputs": [
        {
          "output_type": "stream",
          "name": "stdout",
          "text": [
            "Mounted at /content/drive\n"
          ]
        }
      ]
    },
    {
      "cell_type": "markdown",
      "source": [
        "Your google drive should now be mounted in the `/content/drive/My Drive/` local directory of this colab. The next code fragment assumes that you have there the following directory/file: `dir_on_my_drive/input.txt`."
      ],
      "metadata": {
        "id": "K8X6wp8g3frp"
      }
    },
    {
      "cell_type": "code",
      "source": [
        "import os\n",
        "\n",
        "# first upload input.txt to your gdrive!\n",
        "path = \"/content/drive/My Drive/clustry/input.txt\"\n",
        "if os.path.isfile(path):\n",
        "  lines_from_drive_file = sc.textFile(path)\n",
        "  print(lines_from_drive_file.collect())\n",
        "  # ..."
      ],
      "metadata": {
        "id": "Jb9DBoKnRuSF",
        "colab": {
          "base_uri": "https://localhost:8080/"
        },
        "outputId": "6d734899-3ac8-4d62-8b2d-18765cdc1813"
      },
      "execution_count": null,
      "outputs": [
        {
          "output_type": "stream",
          "name": "stdout",
          "text": [
            "['hello']\n"
          ]
        }
      ]
    },
    {
      "cell_type": "code",
      "source": [
        "drive.flush_and_unmount()"
      ],
      "metadata": {
        "id": "tMI04msQQbsD"
      },
      "execution_count": null,
      "outputs": []
    },
    {
      "cell_type": "markdown",
      "source": [
        "### From online resource"
      ],
      "metadata": {
        "id": "DsjREihyddzp"
      }
    },
    {
      "cell_type": "markdown",
      "source": [
        "Downloading data to colab (machine executing the colab's) from an online source can be done using `wget` shell tool. Note the exclamation mark (!) before the command which indicates that this line should be executed by shell not python.\n",
        "\n",
        "Note that such downloaded files are not persisted. They are deleted after closing the colab session."
      ],
      "metadata": {
        "id": "dI7qa_-XFj5a"
      }
    },
    {
      "cell_type": "code",
      "source": [
        "!wget -q https://wolnelektury.pl/media/book/txt/balladyna.txt -O sample_data/balladyna.txt\n",
        "!wget -q https://wolnelektury.pl/media/book/txt/zemsta.txt -O sample_data/zemsta.txt"
      ],
      "metadata": {
        "id": "FTXB7EFbWVug"
      },
      "execution_count": null,
      "outputs": []
    },
    {
      "cell_type": "markdown",
      "source": [
        "After downloading such files are visible in left menu bars `Files` section in `sample_data` directory.\n",
        "\n",
        "They can be accessed from python code using path: `sample_data/balladyna.txt`."
      ],
      "metadata": {
        "id": "kFl3cdp3eZnF"
      }
    },
    {
      "cell_type": "code",
      "source": [
        "with open('sample_data/balladyna.txt', 'r') as f:\n",
        "  for i, line in enumerate(f.readlines()):\n",
        "    print(f\"{i}: {line}\", end='')\n",
        "    if i > 15:\n",
        "      break"
      ],
      "metadata": {
        "colab": {
          "base_uri": "https://localhost:8080/"
        },
        "id": "tPyvvCqOgZcf",
        "outputId": "8afc1e03-123b-488a-9ede-8ce6c883a38c"
      },
      "execution_count": null,
      "outputs": [
        {
          "output_type": "stream",
          "name": "stdout",
          "text": [
            "0: Juliusz Słowacki\n",
            "1: \n",
            "2: Balladyna\n",
            "3: Tragedia w pięciu aktach\n",
            "4: \n",
            "5: ISBN 978-83-288-2852-0\n",
            "6: \n",
            "7: \n",
            "8: \n",
            "9: \n",
            "10: KOCHANY POETO RUIN!\n",
            "11: \n",
            "12: Pozwól, że pisząc do ciebie, zacznę od apologu, który mi opowiedziano nad Salaminy zatoką.\n",
            "13: \n",
            "14: Stary i ślepy harfiarz z wyspy Scio przyszedł nad brzegi Morza Egejskiego, a usłyszawszy z wielkim hukiem łamiące się fale, myślał, że szum ów pochodził od zgiełku ludzi, którzy się zbiegli pieśni rycerskich posłuchać. — Oparł się więc na harfie i śpiewał pustemu morza brzegowi: a kiedy skończył, zadziwił się, że żadnego ludzkiego głosu, żadnego westchnienia, żadnego pieśń nie zyskała oklasku. Rzucił więc harfę precz daleko od siebie, a te fale, które śpiewak mniemał tłumem ludzkim, odniosły złote pieśni narzędzie i położyły mu je przy stopach. I odszedł od harfy swojej smutny Greczyn, nie wiedząc, że najpiękniejszy rapsod nie w sercach ludzi, ale w głębi fal Egejskiego Morza utonął.\n",
            "15: \n",
            "16: Kochany Irydionie! Ta powiastka o falach i harfiarzu zastąpi wszelką do Balladyny przemowę. Wychodzi na świat Balladyna z ariostycznym uśmiechem na twarzy, obdarzona wnętrzną siłą urągania się z tłumu ludzkiego, z porządku i z ładu, jakim się wszystko dzieje na świecie, z nieprzewidzianych owoców, które wydają drzewa ręką ludzi szczepione. Niech naprawiacz wszelkiego bezprawia Kirkor pada ofiarą swoich czystych zamiarów; niech Grabiec miłuje kuchnię Kirkora; niechaj powietrzna Goplana kocha się w rumianym chłopie, a sentymentalny Filon szuka umyślnie męczarni miłosnych i umarłej kochanki; niechaj tysiące anachronizmów przerazi śpiących w grobie historyków i kronikarzy: a jeżeli to wszystko ma wnętrzną siłę żywota, jeżeli stworzyło się w głowie poety podług praw boskich, jeżeli natchnienie nie było gorączką, ale skutkiem tej dziwnej władzy, która szepce do ucha nigdy wprzód niesłyszane wyrazy, a oczom pokazuje nigdy, we śnie nawet, niewidziane istoty; jeżeli instynkt poetyczny był lepszym od rozsądku, który nieraz tę lub ową rzecz potępił: to Balladyna wbrew rozwadze i historii zostanie królową polską — a piorun, który spadł na jej chwilowe panowanie, błyśnie i roztworzy mgłę dziejów przeszłości.\n"
          ]
        }
      ]
    },
    {
      "cell_type": "markdown",
      "source": [
        "## Example: Saving data"
      ],
      "metadata": {
        "id": "ueSDCFgXgObp"
      }
    },
    {
      "cell_type": "markdown",
      "source": [
        "There are multiple save methods in [RDD API](https://spark.apache.org/docs/3.1.2/api/python/reference/pyspark.html#rdd-apis)\n",
        "\n",
        "Here are some examples. After executing following two code examples check how the data is formatted."
      ],
      "metadata": {
        "id": "qGE-2xzXq4Eq"
      }
    },
    {
      "cell_type": "code",
      "source": [
        "# Saving as text file\n",
        "\n",
        "sc.parallelize([('a', 1), ('b', 2), ('c', 0), ('d', 1), ('e', 0)], 2).saveAsTextFile('save_example1')"
      ],
      "metadata": {
        "id": "349UWuCfro3h"
      },
      "execution_count": null,
      "outputs": []
    },
    {
      "cell_type": "code",
      "source": [
        "# Saving as pickle\n",
        "\n",
        "sc.parallelize([('x', 1), ('y', 2), ('z', 0), ('w', 1), ('ź', 4)], 2).saveAsPickleFile('save_example2')"
      ],
      "metadata": {
        "id": "UFxymwAVrpYm"
      },
      "execution_count": null,
      "outputs": []
    },
    {
      "cell_type": "markdown",
      "source": [
        "Note that partitions are saved separately in their own directoires.\n",
        "\n",
        "Loading of pickled files is straightforward. For text files it can be loaded with [textFile](https://spark.apache.org/docs/3.1.2/api/python/reference/api/pyspark.SparkContext.textFile.html#pyspark.SparkContext.textFile) but requires manual parsing. `glom` method used below visualizes how data is split between partitions."
      ],
      "metadata": {
        "id": "YChu20IpspmC"
      }
    },
    {
      "cell_type": "code",
      "source": [
        "print(sc.pickleFile('save_example2').glom().collect())"
      ],
      "metadata": {
        "colab": {
          "base_uri": "https://localhost:8080/"
        },
        "id": "ucVBwxDvspON",
        "outputId": "ae0f1989-b267-4cc2-a807-6e8711bd593e"
      },
      "execution_count": null,
      "outputs": [
        {
          "output_type": "stream",
          "name": "stdout",
          "text": [
            "[[('x', 1), ('y', 2)], [('z', 0), ('w', 1), ('ź', 4)]]\n"
          ]
        }
      ]
    },
    {
      "cell_type": "markdown",
      "source": [
        "## Map-Reduce sample interface"
      ],
      "metadata": {
        "id": "RtjIWtBidwxi"
      }
    },
    {
      "cell_type": "markdown",
      "source": [
        "You don't need to understand it, yet. Just execute this cell. The `map_reduce` method will be used in the following examples and exercises."
      ],
      "metadata": {
        "id": "wjzWTWa8LJET"
      }
    },
    {
      "cell_type": "code",
      "source": [
        "import itertools\n",
        "import operator\n",
        "from pyspark import RDD\n",
        "from typing import Callable, Iterable, List, Tuple, TypeVar\n",
        "\n",
        "T = TypeVar('T')\n",
        "U = TypeVar('U')\n",
        "V = TypeVar('V')\n",
        "S = TypeVar('S')\n",
        "\n",
        "def map_reduce(\n",
        "    input: RDD[T],\n",
        "    map_function: Callable[[T], Iterable[Tuple[U, V]]],\n",
        "    reduce_function: Callable[[U, Iterable[V]], Iterable[S]],\n",
        "    combiner_function: Callable[[U, Iterable[V]], V] = None\n",
        "    ) -> RDD[S]:\n",
        "\n",
        "  mapped_rdd = input.flatMap(map_function)\n",
        "\n",
        "  if combiner_function is not None:\n",
        "    def apply_combiner(partition: Iterable[Tuple[U, V]]) -> Iterable[Tuple[U, V]]:\n",
        "      it = itertools.groupby(partition, operator.itemgetter(0))\n",
        "      for key, values in it:\n",
        "        yield key, combiner_function(key, [v for _, v in values])\n",
        "\n",
        "    mapped_rdd = mapped_rdd.mapPartitions(apply_combiner)\n",
        "\n",
        "  return mapped_rdd\\\n",
        "      .groupByKey()\\\n",
        "      .flatMap(lambda k_v: reduce_function(k_v[0], k_v[1]))\n"
      ],
      "metadata": {
        "id": "XpIFGtSEE3rb"
      },
      "execution_count": null,
      "outputs": []
    },
    {
      "cell_type": "markdown",
      "source": [
        "## Example: Word count"
      ],
      "metadata": {
        "id": "VjvTXPpQNH2M"
      }
    },
    {
      "cell_type": "code",
      "source": [
        "lines_from_file = sc.textFile('sample_data/balladyna.txt')\n",
        "\n",
        "lines_from_file.take(20)"
      ],
      "metadata": {
        "colab": {
          "base_uri": "https://localhost:8080/"
        },
        "id": "GS8BomsYXKJL",
        "outputId": "db725817-f701-4555-95e1-013913ead015"
      },
      "execution_count": null,
      "outputs": [
        {
          "output_type": "execute_result",
          "data": {
            "text/plain": [
              "['Juliusz Słowacki',\n",
              " '',\n",
              " 'Balladyna',\n",
              " 'Tragedia w pięciu aktach',\n",
              " '',\n",
              " 'ISBN 978-83-288-2852-0',\n",
              " '',\n",
              " '',\n",
              " '',\n",
              " '',\n",
              " 'KOCHANY POETO RUIN!',\n",
              " '',\n",
              " 'Pozwól, że pisząc do ciebie, zacznę od apologu, który mi opowiedziano nad Salaminy zatoką.',\n",
              " '',\n",
              " 'Stary i ślepy harfiarz z wyspy Scio przyszedł nad brzegi Morza Egejskiego, a usłyszawszy z wielkim hukiem łamiące się fale, myślał, że szum ów pochodził od zgiełku ludzi, którzy się zbiegli pieśni rycerskich posłuchać. — Oparł się więc na harfie i śpiewał pustemu morza brzegowi: a kiedy skończył, zadziwił się, że żadnego ludzkiego głosu, żadnego westchnienia, żadnego pieśń nie zyskała oklasku. Rzucił więc harfę precz daleko od siebie, a te fale, które śpiewak mniemał tłumem ludzkim, odniosły złote pieśni narzędzie i położyły mu je przy stopach. I odszedł od harfy swojej smutny Greczyn, nie wiedząc, że najpiękniejszy rapsod nie w sercach ludzi, ale w głębi fal Egejskiego Morza utonął.',\n",
              " '',\n",
              " 'Kochany Irydionie! Ta powiastka o falach i harfiarzu zastąpi wszelką do Balladyny przemowę. Wychodzi na świat Balladyna z ariostycznym uśmiechem na twarzy, obdarzona wnętrzną siłą urągania się z tłumu ludzkiego, z porządku i z ładu, jakim się wszystko dzieje na świecie, z nieprzewidzianych owoców, które wydają drzewa ręką ludzi szczepione. Niech naprawiacz wszelkiego bezprawia Kirkor pada ofiarą swoich czystych zamiarów; niech Grabiec miłuje kuchnię Kirkora; niechaj powietrzna Goplana kocha się w rumianym chłopie, a sentymentalny Filon szuka umyślnie męczarni miłosnych i umarłej kochanki; niechaj tysiące anachronizmów przerazi śpiących w grobie historyków i kronikarzy: a jeżeli to wszystko ma wnętrzną siłę żywota, jeżeli stworzyło się w głowie poety podług praw boskich, jeżeli natchnienie nie było gorączką, ale skutkiem tej dziwnej władzy, która szepce do ucha nigdy wprzód niesłyszane wyrazy, a oczom pokazuje nigdy, we śnie nawet, niewidziane istoty; jeżeli instynkt poetyczny był lepszym od rozsądku, który nieraz tę lub ową rzecz potępił: to Balladyna wbrew rozwadze i historii zostanie królową polską — a piorun, który spadł na jej chwilowe panowanie, błyśnie i roztworzy mgłę dziejów przeszłości.',\n",
              " '',\n",
              " 'Uśmiechnij się teraz, Irydionie, bo oto naśladując francuskich poetów: powiem ci, że Balladyna jest tylko epizodem wielkiego poematu w rodzaju Ariosta, który ma się uwiązać z sześciu tragedii, czyli kronik dramatycznych. Cienie już różne ludzi niebyłych wyszły ze mgły przedstworzenia i otaczają mnie ciżbą gwarzącą: potrzeba tylko, aby się zebrały w oddzielne tłumy, ażeby czyny ich ułożyły się w postacie piramidalne wypadków, a jedną po drugiej garstkę na świat wypychać będę; i sprawdzą się może sny mego dzieciństwa. Bo ileż to razy, patrząc na stary zamek koronujący ruinami górę mego rodzinnego miasteczka, marzyłem, że kiedyś w ten wieniec wyszczerbionych murów nasypię widm, duchów, rycerzy; że odbuduję upadłe sale i oświecę je przez okna ogniem piorunowych nocy, a sklepieniom każę powtarzać dawne Sofoklesowskie „niestety!” A za to imię moje słyszane będzie w szumie płynącego pod górą potoku, a jakaś niby tęcza z myśli moich unosić się będzie nad ruinami zamku. — O! nie mów mi, że z dzwonków polnych większa ozdoba ruinom niż z tego wieńca myśli, w który je ubierze poeta: — bo choć róże rosnące na ruinach pałacu Nerona rozwidniały nam pięknie te gruzy: to jednak jaśniej mi je oświecił ów duch Irydiona, któregoś ty pod krzyżem w Koloseum położył i nakrył złotymi skrzydłami anioła.',\n",
              " '']"
            ]
          },
          "metadata": {},
          "execution_count": 14
        }
      ]
    },
    {
      "cell_type": "code",
      "source": [
        "import re\n",
        "\n",
        "example_words = lines_from_file.flatMap(lambda line: filter(None, re.split(r'\\s+', line.lower())))\n",
        "\n",
        "example_words.take(30)"
      ],
      "metadata": {
        "colab": {
          "base_uri": "https://localhost:8080/"
        },
        "id": "73dh_irCXScy",
        "outputId": "e10c494a-8d9e-46fc-e5e2-1bd032b8efd1"
      },
      "execution_count": null,
      "outputs": [
        {
          "output_type": "execute_result",
          "data": {
            "text/plain": [
              "['juliusz',\n",
              " 'słowacki',\n",
              " 'balladyna',\n",
              " 'tragedia',\n",
              " 'w',\n",
              " 'pięciu',\n",
              " 'aktach',\n",
              " 'isbn',\n",
              " '978-83-288-2852-0',\n",
              " 'kochany',\n",
              " 'poeto',\n",
              " 'ruin!',\n",
              " 'pozwól,',\n",
              " 'że',\n",
              " 'pisząc',\n",
              " 'do',\n",
              " 'ciebie,',\n",
              " 'zacznę',\n",
              " 'od',\n",
              " 'apologu,',\n",
              " 'który',\n",
              " 'mi',\n",
              " 'opowiedziano',\n",
              " 'nad',\n",
              " 'salaminy',\n",
              " 'zatoką.',\n",
              " 'stary',\n",
              " 'i',\n",
              " 'ślepy',\n",
              " 'harfiarz']"
            ]
          },
          "metadata": {},
          "execution_count": 15
        }
      ]
    },
    {
      "cell_type": "code",
      "source": [
        "from pyspark import RDD\n",
        "from typing import Tuple\n",
        "\n",
        "def word_count(words_rdd: RDD[str]) -> RDD[Tuple[str, int]]:\n",
        "  return map_reduce(\n",
        "      words_rdd,\n",
        "      lambda word: [(word, 1)],\n",
        "      lambda k, vs: [(k, sum(vs))]\n",
        "  )\n",
        "\n",
        "word_count(example_words).take(15)"
      ],
      "metadata": {
        "colab": {
          "base_uri": "https://localhost:8080/"
        },
        "id": "E1a4WzjZQR2n",
        "outputId": "c5c455a3-5a7b-4ce6-85d6-b7d371504080"
      },
      "execution_count": null,
      "outputs": [
        {
          "output_type": "execute_result",
          "data": {
            "text/plain": [
              "[('juliusz', 3),\n",
              " ('balladyna', 263),\n",
              " ('tragedia', 1),\n",
              " ('aktach', 1),\n",
              " ('978-83-288-2852-0', 1),\n",
              " ('kochany', 2),\n",
              " ('ruin!', 1),\n",
              " ('pozwól,', 2),\n",
              " ('ciebie,', 7),\n",
              " ('zacznę', 1),\n",
              " ('apologu,', 1),\n",
              " ('który', 16),\n",
              " ('mi', 89),\n",
              " ('opowiedziano', 1),\n",
              " ('nad', 47)]"
            ]
          },
          "metadata": {},
          "execution_count": 16
        }
      ]
    },
    {
      "cell_type": "code",
      "source": [
        "def word_count_with_combiner(words_rdd: RDD[str]) -> RDD[Tuple[str, int]]:\n",
        "  return map_reduce(\n",
        "      words_rdd,\n",
        "      lambda word: [(word, 1)],\n",
        "      lambda k, vs: [(k, sum(vs))],\n",
        "      lambda _, vs: sum(vs)\n",
        "  )\n",
        "\n",
        "word_count_with_combiner(example_words).take(15)"
      ],
      "metadata": {
        "colab": {
          "base_uri": "https://localhost:8080/"
        },
        "id": "40Y4901oXShP",
        "outputId": "ad4baed9-7a45-4a5c-835a-60be3cc7abbe"
      },
      "execution_count": null,
      "outputs": [
        {
          "output_type": "execute_result",
          "data": {
            "text/plain": [
              "[('juliusz', 3),\n",
              " ('balladyna', 263),\n",
              " ('tragedia', 1),\n",
              " ('aktach', 1),\n",
              " ('978-83-288-2852-0', 1),\n",
              " ('kochany', 2),\n",
              " ('ruin!', 1),\n",
              " ('pozwól,', 2),\n",
              " ('ciebie,', 7),\n",
              " ('zacznę', 1),\n",
              " ('apologu,', 1),\n",
              " ('który', 16),\n",
              " ('mi', 89),\n",
              " ('opowiedziano', 1),\n",
              " ('nad', 47)]"
            ]
          },
          "metadata": {},
          "execution_count": 17
        }
      ]
    },
    {
      "cell_type": "markdown",
      "source": [
        "## Exercise 1: Average"
      ],
      "metadata": {
        "id": "gYx8dsk2gJY0"
      }
    },
    {
      "cell_type": "markdown",
      "source": [
        "Calculate average for given `RDD` of numbers. Use `map_reduce` utility method. Try to add a combiner function."
      ],
      "metadata": {
        "id": "iusCF9B6gFsk"
      }
    },
    {
      "cell_type": "code",
      "source": [
        "from typing import Union\n",
        "\n",
        "def average(numbers_rdd: RDD[Union[int, float]]) -> float:\n",
        "  # TODO: write your code here\n",
        "  if numbers_rdd.isEmpty():\n",
        "    return float('NaN')\n",
        "\n",
        "  return map_reduce(\n",
        "    numbers_rdd,\n",
        "    lambda number: [(None,(number, 1))],\n",
        "    lambda k, vs: [(lambda values, counts: sum(values) / sum(counts))(*zip(*vs))]\n",
        "  ).collect()[0]\n",
        "\n",
        "def average_with_combiner(numbers_rdd: RDD[Union[int, float]]) -> float:\n",
        "  if numbers_rdd.isEmpty():\n",
        "    return float('NaN')\n",
        "\n",
        "  return map_reduce(\n",
        "    numbers_rdd,\n",
        "    lambda n: [(None, (n,1))],\n",
        "    lambda k, vs: [(lambda values, counts: sum(values) / sum(counts))(*zip(*vs))],\n",
        "    lambda _, vs: (lambda values, counts: (sum(values), sum(counts)))(*zip(*vs))\n",
        "  ).collect()[0]"
      ],
      "metadata": {
        "id": "u1Sak9McuaYJ"
      },
      "execution_count": null,
      "outputs": []
    },
    {
      "cell_type": "code",
      "source": [
        "[\n",
        "    average(sc.parallelize([1,2,3,4,5,6])), # should be 3.5\n",
        "    average(sc.parallelize([42, 12])),      # should be 27 or 27.0\n",
        "    average(sc.parallelize([]))             # NaN or raise a meaningful exception\n",
        "]"
      ],
      "metadata": {
        "colab": {
          "base_uri": "https://localhost:8080/"
        },
        "id": "cuALAexNiZiE",
        "outputId": "55c889fa-35c1-483f-954f-49250e9fb04c"
      },
      "execution_count": null,
      "outputs": [
        {
          "output_type": "execute_result",
          "data": {
            "text/plain": [
              "[3.5, 27.0, nan]"
            ]
          },
          "metadata": {},
          "execution_count": 29
        }
      ]
    },
    {
      "cell_type": "code",
      "source": [
        "[\n",
        "    average_with_combiner(sc.parallelize([1,2,3,4,5,6])),\n",
        "    average_with_combiner(sc.parallelize([42, 12])),\n",
        "    average_with_combiner(sc.parallelize([]))\n",
        "]"
      ],
      "metadata": {
        "colab": {
          "base_uri": "https://localhost:8080/"
        },
        "id": "9jIbXfDTAx_F",
        "outputId": "e42ba390-e96a-4ccd-b7e9-263e86048c85"
      },
      "execution_count": null,
      "outputs": [
        {
          "output_type": "execute_result",
          "data": {
            "text/plain": [
              "[3.5, 27.0, nan]"
            ]
          },
          "metadata": {},
          "execution_count": 26
        }
      ]
    },
    {
      "cell_type": "markdown",
      "source": [
        "## Exercise 2: Jaccard similarity coefficient"
      ],
      "metadata": {
        "id": "yxZLm_9yf8Tq"
      }
    },
    {
      "cell_type": "markdown",
      "source": [
        "Compute [Jaccard similarity coefficient](https://en.wikipedia.org/wiki/Jaccard_index) of two sets given by two RDD-s. Note: [union](https://spark.apache.org/docs/3.1.2/api/python/reference/api/pyspark.SparkContext.union.html#pyspark.SparkContext.union) function may be needed. Use either `map_reduce` utility function or `map`, `flatMap`, `groupByKey` or other methods from [RDD](https://spark.apache.org/docs/3.1.2/api/python/reference/pyspark.html#rdd-apis) directly.\n",
        "\n",
        "You can assume that both given `RDD`-s do not contain any duplicates."
      ],
      "metadata": {
        "id": "wVtmXbH7gBr5"
      }
    },
    {
      "cell_type": "code",
      "source": [
        "from pyspark import RDD\n",
        "from typing import TypeVar\n",
        "\n",
        "T = TypeVar('T')\n",
        "\n",
        "def jaccard_similarity(a: RDD[T], b: RDD[T]) -> float:\n",
        "  # TODO: write your code here\n",
        "  if a.isEmpty() and b.isEmpty():\n",
        "    return float('NaN')\n",
        "\n",
        "  union = a.map(lambda x: (x, 'A'), preservesPartitioning=True)\\\n",
        "    .union(b.map(lambda x: (x, 'B'), preservesPartitioning=True))\n",
        "\n",
        "  elements_in_common, elements_in_sum = union.groupByKey().mapValues(len).aggregate(\n",
        "      (0,0),\n",
        "      lambda x, y: ((x[0] + 1) if y[1] == 2 else x[0], x[1] + 1),\n",
        "      lambda x, y: (x[0] + y[0], x[1] + y[1])\n",
        "  )\n",
        "\n",
        "  return elements_in_common / elements_in_sum"
      ],
      "metadata": {
        "id": "4YqkDoWAgcrF"
      },
      "execution_count": null,
      "outputs": []
    },
    {
      "cell_type": "code",
      "source": [
        "[\n",
        "    jaccard_similarity(sc.parallelize([1,2,3]), sc.parallelize([2,3,4])), # 0.5\n",
        "    jaccard_similarity(sc.parallelize([1,2,3]), sc.parallelize([4,5])), # 0.0\n",
        "    jaccard_similarity(sc.parallelize(['a', 'b', 'c', 'd']), sc.parallelize(['c', 'b'])), # 0.5\n",
        "    jaccard_similarity(sc.parallelize([]), sc.parallelize([])) # NaN or raise a meaningful exception\n",
        "]"
      ],
      "metadata": {
        "colab": {
          "base_uri": "https://localhost:8080/"
        },
        "id": "JHPlSeV4hi8-",
        "outputId": "b1464353-9178-41de-fcda-b10c86bf84ed"
      },
      "execution_count": null,
      "outputs": [
        {
          "output_type": "execute_result",
          "data": {
            "text/plain": [
              "[0.5, 0.0, 0.5, nan]"
            ]
          },
          "metadata": {},
          "execution_count": 42
        }
      ]
    },
    {
      "cell_type": "markdown",
      "source": [
        "## Exercise 3: Fetching online data\n",
        "\n",
        "Distribute fetching definitions of words from an online resource [Słownik języka polskiego](https://sjp.pl).\n",
        "\n",
        "Cell below downloads a database of words tagged as acceptable in word games."
      ],
      "metadata": {
        "id": "5_tNZYbN8Y1c"
      }
    },
    {
      "cell_type": "code",
      "source": [
        "!wget -q https://sjp.pl/sl/growy/sjp-20250301.zip -O sample_data/sjp-20250301.zip\n",
        "!rm -f sample_data/slowa.txt\n",
        "!unzip sample_data/sjp-20250301.zip  slowa.txt -d sample_data"
      ],
      "metadata": {
        "colab": {
          "base_uri": "https://localhost:8080/"
        },
        "id": "7koSvgJL-Rs3",
        "outputId": "cfa2a96e-7167-42af-fc88-13656baa4786"
      },
      "execution_count": null,
      "outputs": [
        {
          "output_type": "stream",
          "name": "stdout",
          "text": [
            "Archive:  sample_data/sjp-20250301.zip\n",
            "  inflating: sample_data/slowa.txt   \n"
          ]
        }
      ]
    },
    {
      "cell_type": "code",
      "source": [
        "# prints example values\n",
        "\n",
        "words_rdd = sc.textFile('sample_data/slowa.txt')\n",
        "print(words_rdd.take(15))\n",
        "\n",
        "words_sample_rdd = words_rdd.sample(False, 20.0/words_rdd.count())\n",
        "print(words_sample_rdd.collect())"
      ],
      "metadata": {
        "colab": {
          "base_uri": "https://localhost:8080/"
        },
        "id": "Oed74atC_hyl",
        "outputId": "676c525d-6cc4-4f15-858e-d9ef3818ea66"
      },
      "execution_count": null,
      "outputs": [
        {
          "output_type": "stream",
          "name": "stdout",
          "text": [
            "['aa', 'aaa', 'aalborscy', 'aalborska', 'aalborską', 'aalborski', 'aalborskich', 'aalborskie', 'aalborskiego', 'aalborskiej', 'aalborskiemu', 'aalborskim', 'aalborskimi', 'aalborsko', 'aalborsku']\n",
            "['cyjankową', 'frakcjach', 'gorzkniałyście', 'gwałciły', 'kalprotektyn', 'koniusku', 'mielniki', 'nabrechtał', 'pangą', 'pasteryzując', 'poleasingowemu', 'pseudogotyków', 'puszkowaniem', 'starościanko', 'usynawiającemu', 'wicenaczelnikom', 'wydziwiłbyś', 'zamrażalibyśmy', 'złączkową']\n"
          ]
        }
      ]
    },
    {
      "cell_type": "markdown",
      "source": [
        "Next cell shows how to download a definitions of the word from the same source by parsing a html webpage."
      ],
      "metadata": {
        "id": "YaPL_0t4v6yy"
      }
    },
    {
      "cell_type": "code",
      "source": [
        "from pyspark import RDD\n",
        "import re\n",
        "import ssl\n",
        "import urllib.parse\n",
        "import urllib.request\n",
        "\n",
        "\n",
        "def fetch_definition(word: str) -> Iterable[str]:\n",
        "  definition_re = re.compile(r\"<p style=\\\"margin: \\.5em 0; font: medium[^\\\"]*\\\">([^<]+(?:<br />[^<]+)*)</p>\")\n",
        "  url = f\"https://sjp.pl/{urllib.parse.quote(word)}\"\n",
        "  response = urllib.request.urlopen(url, context=ssl._create_unverified_context())\n",
        "  html = response.read().decode(response.headers.get_content_charset())\n",
        "  return (d.group(1).replace('<br />', \"\\n\") for d in definition_re.finditer(html))\n",
        "\n",
        "print(list(fetch_definition(\"test\")))\n",
        "print(list(fetch_definition(\"a kuku\")))"
      ],
      "metadata": {
        "colab": {
          "base_uri": "https://localhost:8080/"
        },
        "id": "BgRpva3QA04-",
        "outputId": "be10895c-662b-4963-d944-223b93fc86a4"
      },
      "execution_count": null,
      "outputs": [
        {
          "output_type": "stream",
          "name": "stdout",
          "text": [
            "['1. rodzaj pisemnego sprawdzianu, egzamin; zestaw odpowiednio przygotowanych pytań;\\n2. badanie, próba;\\n3. kontrolny obraz w odbiorniku telewizyjnym', 'partia wokalna w oratoriach, pełniąca funkcję narratora objaśniającego tło akcji i zaistniałą sytuację dramatyczną']\n",
            "['wyrażenie mające na celu zasygnalizowanie swojej obecności osobie niespodziewającej się tego']\n"
          ]
        }
      ]
    },
    {
      "cell_type": "markdown",
      "source": [
        "Using our `map_reduce` method and the function above a method that distributes downloading of the definitions of words can be created. Implement it as an exercise."
      ],
      "metadata": {
        "id": "I3_ymcgnwd5y"
      }
    },
    {
      "cell_type": "code",
      "source": [
        "def fetch_definitions(rdd: RDD[str]) -> RDD[Tuple[str, str]]:\n",
        "  # TODO: write your code here\n",
        "  if rdd.isEmpty():\n",
        "    return None\n",
        "\n",
        "  return map_reduce(\n",
        "      rdd,\n",
        "      lambda word : [(word, None)],\n",
        "      lambda k, vs: [(k, \"\\n\".join(fetch_definition(k)))]\n",
        "  )\n"
      ],
      "metadata": {
        "id": "TC1LoIqbvhdr"
      },
      "execution_count": null,
      "outputs": []
    },
    {
      "cell_type": "code",
      "source": [
        "word_definitions = fetch_definitions(words_sample_rdd)\n",
        "\n",
        "for word, definition in word_definitions.collect():\n",
        "  print(word)\n",
        "  print(\" \", definition.replace(\"\\n\", \"\\n  \"))\n",
        "  print(\"\")"
      ],
      "metadata": {
        "colab": {
          "base_uri": "https://localhost:8080/"
        },
        "id": "RxMsArg8H2nV",
        "outputId": "11fc378d-c054-448f-88be-86ce470a893d"
      },
      "execution_count": null,
      "outputs": [
        {
          "output_type": "stream",
          "name": "stdout",
          "text": [
            "gwałciły\n",
            "  \n",
            "\n",
            "mielniki\n",
            "  element mielący stosowany w młynach bębnowych\n",
            "\n",
            "nabrechtał\n",
            "  regionalnie: nabredzić, napleść, nagadać; nabrechać\n",
            "\n",
            "pasteryzując\n",
            "  prowadzić pasteryzację, niszczyć bakterie i inne drobnoustroje w produktach spożywczych i farmaceutycznych, podgrzewając taki produkt do określonej temperatury\n",
            "\n",
            "poleasingowemu\n",
            "  [czytaj: poliz-ingowy] będący po okresie leasingu\n",
            "\n",
            "puszkowaniem\n",
            "  umieszczać pewnie porcje jakiegoś produktu w puszkach, najczęściej taśmowo i w specjalnie do tego przygotowanym pomieszczeniu\n",
            "\n",
            "starościanko\n",
            "  córka starosty\n",
            "\n",
            "usynawiającemu\n",
            "  \n",
            "\n",
            "złączkową\n",
            "  \n",
            "\n",
            "cyjankową\n",
            "  przymiotnik od: cyjanek\n",
            "\n",
            "frakcjach\n",
            "  1. wyodrębniona część większej całości;\n",
            "  2. odłam w ramach ugrupowania politycznego;\n",
            "  3. wydzielona część mieszaniny różnych substancji, posiadająca specyficzne właściwości;\n",
            "  4. część skały osadowej lub kruszywa o określonej wielkości ziaren;\n",
            "  5. czcionka mniejsza od podstawowej, służąca do oznaczania indeksów (górnych i dolnych), przypisów itp.;\n",
            "  6. dawniej: ułamek\n",
            "\n",
            "gorzkniałyście\n",
            "  1. o czymś: nabierać goryczy, stawać się gorzkim;\n",
            "  2. o kimś: stawać się zgorzkniałym, apatycznym; tetryczeć\n",
            "\n",
            "kalprotektyn\n",
            "  białko ostrej fazy, wskazujące na stan zapalny jelit\n",
            "\n",
            "koniusku\n",
            "  \n",
            "\n",
            "pangą\n",
            "  1. gatunek słodkowodnej ryby z rzędu sumokształtnych, poławiany gospodarczo i hodowany w celach konsumpcyjnych, sprowadzany do Europy w dużych ilościach z wietnamskich hodowli, w Polsce sprzedawany w postaci mrożonych filetów;\n",
            "  2. ryba z rodziny ostrobokowatych, występująca na Oceanie Indyjskim, Pacyfiku oraz Atlantyku, rzadziej spotykana w wodach słonawych\n",
            "\n",
            "pseudogotyków\n",
            "  styl architektoniczny naśladujący gotyk, będący imitacją gotyku; niby-gotyk\n",
            "\n",
            "wicenaczelnikom\n",
            "  zastępca naczelnika\n",
            "\n",
            "wydziwiłbyś\n",
            "  \n",
            "\n",
            "zamrażalibyśmy\n",
            "  \n",
            "\n"
          ]
        }
      ]
    },
    {
      "cell_type": "markdown",
      "source": [
        "### Additional exercise:\n",
        "\n",
        "Print words from `words_sample_rdd` for which no definition was found."
      ],
      "metadata": {
        "id": "j5kU5xyxIZH6"
      }
    },
    {
      "cell_type": "code",
      "source": [
        "from typing import Tuple\n",
        "\n",
        "def words_without_any_definition(words: RDD[str], word_definitions: RDD[Tuple[str, str]]) -> RDD[str]:\n",
        "  # TODO: write your code here\n",
        "  defined_words = word_definitions\\\n",
        "    .filter(lambda wd: wd[1].strip() != \"\")\\\n",
        "    .map(lambda wd: wd[0]).distinct()\n",
        "\n",
        "  return words.subtract(defined_words)"
      ],
      "metadata": {
        "id": "AF-2CV40Iil8"
      },
      "execution_count": null,
      "outputs": []
    },
    {
      "cell_type": "code",
      "source": [
        "print(f\"words without any definition: {words_without_any_definition(words_sample_rdd, word_definitions).collect()}\")"
      ],
      "metadata": {
        "colab": {
          "base_uri": "https://localhost:8080/"
        },
        "id": "3NHTv7Y8z0WN",
        "outputId": "eb3234c0-3377-4aa3-fcb6-932759fa6822"
      },
      "execution_count": null,
      "outputs": [
        {
          "output_type": "stream",
          "name": "stdout",
          "text": [
            "words without any definition: ['usynawiającemu', 'wydziwiłbyś', 'zamrażalibyśmy', 'gwałciły', 'złączkową', 'koniusku']\n"
          ]
        }
      ]
    },
    {
      "cell_type": "markdown",
      "source": [
        "## Homework 1: Set union, intersection and difference\n",
        "\n",
        "Given two sets in `RDD` format calculate their union, intersection and difference.\n",
        "\n",
        "Note: you can assume that there are no duplicates in given `RDD`-s. It is part of the exercise to make sure there will be no duplicates in the results."
      ],
      "metadata": {
        "id": "8jptMQSHLK4l"
      }
    },
    {
      "cell_type": "code",
      "source": [
        "from pyspark import RDD\n",
        "from typing import TypeVar\n",
        "\n",
        "\n",
        "T = TypeVar('T')\n",
        "\n",
        "# calculates: a ∪ b\n",
        "def union(a: RDD[T], b: RDD[T]) -> RDD[T]:\n",
        "  # TODO: write your code here\n",
        "  return map_reduce(\n",
        "    a.union(b),\n",
        "    lambda t: [(t,t)],\n",
        "    lambda k, _: [(k)],\n",
        "    lambda k, _: (k,None)\n",
        "  )\n",
        "\n",
        "# calculates: a ∩ b\n",
        "def intersection(a: RDD[T], b: RDD[T]) -> RDD[T]:\n",
        "  # TODO: write your code here\n",
        "  union = a.map(lambda x: (x, 'A'), preservesPartitioning=True)\\\n",
        "    .union(b.map(lambda x: (x, 'B'), preservesPartitioning=True))\n",
        "\n",
        "  return map_reduce(\n",
        "    union,\n",
        "    lambda t: [(t[0], t[1])],\n",
        "    lambda k, vs: [k] if len(set(vs)) == 2 else []\n",
        "  )\n",
        "\n",
        "# calculates: a - b\n",
        "def difference(a: RDD[T], b: RDD[T]) -> RDD[T]:\n",
        "  # TODO: write your code here\n",
        "  union = a.map(lambda x: (x, 'A'), preservesPartitioning=True)\\\n",
        "    .union(b.map(lambda x: (x, 'B'), preservesPartitioning=True))\n",
        "\n",
        "  return map_reduce(\n",
        "    union,\n",
        "    lambda t: [(t[0], t[1])],\n",
        "    lambda k, vs: [k] if 'B' not in vs else []\n",
        "  )"
      ],
      "metadata": {
        "id": "RvLdtTpMLIi2"
      },
      "execution_count": null,
      "outputs": []
    },
    {
      "cell_type": "code",
      "source": [
        "# Write more tests to make sure your solution works great\n",
        "\n",
        "a = sc.parallelize([1, 2, 3, 4])\n",
        "b = sc.parallelize([3, 4, 5])\n",
        "\n",
        "[\n",
        "    union(a, b).collect(),\n",
        "    intersection(a, b).collect(),\n",
        "    difference(a, b).collect(),\n",
        "    union(a, sc.emptyRDD()).collect(),\n",
        "    union(sc.emptyRDD(), a).collect(),\n",
        "    union(sc.emptyRDD(), sc.emptyRDD()).collect(),\n",
        "    intersection(a, sc.emptyRDD()).collect(),\n",
        "    intersection(sc.emptyRDD(), a).collect(),\n",
        "    intersection(sc.emptyRDD(), sc.emptyRDD()).collect(),\n",
        "    difference(a, sc.emptyRDD()).collect(),\n",
        "    difference(sc.emptyRDD(), a).collect(),\n",
        "    difference(sc.emptyRDD(), sc.emptyRDD()).collect()\n",
        "]"
      ],
      "metadata": {
        "id": "BCSce9caNGaG",
        "colab": {
          "base_uri": "https://localhost:8080/"
        },
        "outputId": "98a834bd-ed56-475d-976f-108eaf4bc85a"
      },
      "execution_count": null,
      "outputs": [
        {
          "output_type": "execute_result",
          "data": {
            "text/plain": [
              "[[4, 1, 5, 2, 3],\n",
              " [4, 3],\n",
              " [1, 2],\n",
              " [2, 4, 1, 3],\n",
              " [2, 4, 1, 3],\n",
              " [],\n",
              " [],\n",
              " [],\n",
              " [],\n",
              " [2, 4, 1, 3],\n",
              " [],\n",
              " []]"
            ]
          },
          "metadata": {},
          "execution_count": 79
        }
      ]
    },
    {
      "cell_type": "markdown",
      "source": [
        "## Homework 2: Join\n",
        "\n",
        "Write a function calculating natural join of two relations."
      ],
      "metadata": {
        "id": "d0vFtIIvOFUv"
      }
    },
    {
      "cell_type": "code",
      "source": [
        "from pyspark import RDD\n",
        "from typing import Tuple, TypeVar\n",
        "\n",
        "T = TypeVar('T')\n",
        "U = TypeVar('U')\n",
        "V = TypeVar('V')\n",
        "\n",
        "# calculates all triples (x, y, z) such that (x,y)∈r and (y,z)∈s\n",
        "def join(r: RDD[Tuple[T, U]], s: RDD[Tuple[U, V]]) -> RDD[Tuple[T, U, V]]:\n",
        "  # TODO: write your code here\n",
        "  union = r.map(lambda x: (x[1], (x[0], 'R')), preservesPartitioning=True)\\\n",
        "    .union(s.map(lambda x: (x[0], (x[1], 'S')), preservesPartitioning=True))\n",
        "\n",
        "  def reduce_function(k: U, values: Iterable[Tuple[T | V, str]]) -> Iterable[Tuple[T, U, V]]:\n",
        "    r_values = [v for v, tag in values if tag == 'R']\n",
        "    s_values = [v for v, tag in values if tag == 'S']\n",
        "    return [(a, k, c) for a in r_values for c in s_values]\n",
        "\n",
        "  return map_reduce(\n",
        "      union,\n",
        "      lambda t: [(t[0], (t[1][0], t[1][1]))],\n",
        "      reduce_function\n",
        "  )\n"
      ],
      "metadata": {
        "id": "Z4TVOGIGOVBL"
      },
      "execution_count": null,
      "outputs": []
    },
    {
      "cell_type": "code",
      "source": [
        "# Write more tests to make sure your solution works great\n",
        "\n",
        "a = sc.parallelize([(1, 'a'), (0, 'b'), (1, 'b')])\n",
        "b = sc.parallelize([('a', 12), ('a', 22), ('b', 12), ('c', 8)])\n",
        "\n",
        "print(join(a, b).collect())"
      ],
      "metadata": {
        "id": "AoS6gbOgOok-",
        "colab": {
          "base_uri": "https://localhost:8080/"
        },
        "outputId": "b5b08ef3-a768-4f7d-91be-be82aa6c6fe4"
      },
      "execution_count": null,
      "outputs": [
        {
          "output_type": "stream",
          "name": "stdout",
          "text": [
            "[(0, 'b', 12), (1, 'b', 12), (1, 'a', 12), (1, 'a', 22)]\n"
          ]
        }
      ]
    },
    {
      "cell_type": "code",
      "source": [
        "a = sc.parallelize([(1, 'a'), (2, 'a'), ('a', 'b')])\n",
        "b = sc.parallelize([('a', 1), ('b', 5)])\n",
        "\n",
        "print(join(a, b).collect())"
      ],
      "metadata": {
        "colab": {
          "base_uri": "https://localhost:8080/"
        },
        "id": "MR5N0mcSuD3n",
        "outputId": "2693c566-6286-450e-9971-d5a21ad85e32"
      },
      "execution_count": null,
      "outputs": [
        {
          "output_type": "stream",
          "name": "stdout",
          "text": [
            "[('a', 'b', 5), (1, 'a', 1), (2, 'a', 1)]\n"
          ]
        }
      ]
    },
    {
      "cell_type": "markdown",
      "metadata": {
        "id": "ksT9dLxgl9je"
      },
      "source": [
        "<center><img src='https://drive.google.com/uc?id=1BXZ0u3562N_MqCLcekI-Ens77Kk4LpPm'></center>"
      ]
    }
  ]
}